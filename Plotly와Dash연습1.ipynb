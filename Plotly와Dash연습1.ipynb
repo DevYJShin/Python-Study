{
  "nbformat": 4,
  "nbformat_minor": 0,
  "metadata": {
    "colab": {
      "name": "Plotly와Dash연습1.ipynb",
      "provenance": [],
      "include_colab_link": true
    },
    "kernelspec": {
      "name": "python3",
      "display_name": "Python 3"
    },
    "language_info": {
      "name": "python"
    },
    "accelerator": "GPU"
  },
  "cells": [
    {
      "cell_type": "markdown",
      "metadata": {
        "id": "view-in-github",
        "colab_type": "text"
      },
      "source": [
        "<a href=\"https://colab.research.google.com/github/DevYJShin/Python-Study/blob/main/Plotly%EC%99%80Dash%EC%97%B0%EC%8A%B51.ipynb\" target=\"_parent\"><img src=\"https://colab.research.google.com/assets/colab-badge.svg\" alt=\"Open In Colab\"/></a>"
      ]
    },
    {
      "cell_type": "code",
      "source": [
        "! pip install cx_Oracle"
      ],
      "metadata": {
        "id": "MsuFY8a0mSyH",
        "colab": {
          "base_uri": "https://localhost:8080/"
        },
        "outputId": "1237b746-2512-4643-b389-07752924e69f"
      },
      "execution_count": 4,
      "outputs": [
        {
          "output_type": "stream",
          "name": "stdout",
          "text": [
            "Collecting cx_Oracle\n",
            "  Downloading cx_Oracle-8.3.0-cp37-cp37m-manylinux_2_5_x86_64.manylinux1_x86_64.manylinux_2_12_x86_64.manylinux2010_x86_64.whl (852 kB)\n",
            "\u001b[?25l\r\u001b[K     |▍                               | 10 kB 22.8 MB/s eta 0:00:01\r\u001b[K     |▊                               | 20 kB 24.7 MB/s eta 0:00:01\r\u001b[K     |█▏                              | 30 kB 20.6 MB/s eta 0:00:01\r\u001b[K     |█▌                              | 40 kB 12.4 MB/s eta 0:00:01\r\u001b[K     |██                              | 51 kB 14.1 MB/s eta 0:00:01\r\u001b[K     |██▎                             | 61 kB 16.2 MB/s eta 0:00:01\r\u001b[K     |██▊                             | 71 kB 14.2 MB/s eta 0:00:01\r\u001b[K     |███                             | 81 kB 13.6 MB/s eta 0:00:01\r\u001b[K     |███▌                            | 92 kB 14.8 MB/s eta 0:00:01\r\u001b[K     |███▉                            | 102 kB 14.9 MB/s eta 0:00:01\r\u001b[K     |████▎                           | 112 kB 14.9 MB/s eta 0:00:01\r\u001b[K     |████▋                           | 122 kB 14.9 MB/s eta 0:00:01\r\u001b[K     |█████                           | 133 kB 14.9 MB/s eta 0:00:01\r\u001b[K     |█████▍                          | 143 kB 14.9 MB/s eta 0:00:01\r\u001b[K     |█████▊                          | 153 kB 14.9 MB/s eta 0:00:01\r\u001b[K     |██████▏                         | 163 kB 14.9 MB/s eta 0:00:01\r\u001b[K     |██████▌                         | 174 kB 14.9 MB/s eta 0:00:01\r\u001b[K     |███████                         | 184 kB 14.9 MB/s eta 0:00:01\r\u001b[K     |███████▎                        | 194 kB 14.9 MB/s eta 0:00:01\r\u001b[K     |███████▊                        | 204 kB 14.9 MB/s eta 0:00:01\r\u001b[K     |████████                        | 215 kB 14.9 MB/s eta 0:00:01\r\u001b[K     |████████▌                       | 225 kB 14.9 MB/s eta 0:00:01\r\u001b[K     |████████▉                       | 235 kB 14.9 MB/s eta 0:00:01\r\u001b[K     |█████████▎                      | 245 kB 14.9 MB/s eta 0:00:01\r\u001b[K     |█████████▋                      | 256 kB 14.9 MB/s eta 0:00:01\r\u001b[K     |██████████                      | 266 kB 14.9 MB/s eta 0:00:01\r\u001b[K     |██████████▍                     | 276 kB 14.9 MB/s eta 0:00:01\r\u001b[K     |██████████▊                     | 286 kB 14.9 MB/s eta 0:00:01\r\u001b[K     |███████████▏                    | 296 kB 14.9 MB/s eta 0:00:01\r\u001b[K     |███████████▌                    | 307 kB 14.9 MB/s eta 0:00:01\r\u001b[K     |████████████                    | 317 kB 14.9 MB/s eta 0:00:01\r\u001b[K     |████████████▎                   | 327 kB 14.9 MB/s eta 0:00:01\r\u001b[K     |████████████▊                   | 337 kB 14.9 MB/s eta 0:00:01\r\u001b[K     |█████████████                   | 348 kB 14.9 MB/s eta 0:00:01\r\u001b[K     |█████████████▌                  | 358 kB 14.9 MB/s eta 0:00:01\r\u001b[K     |█████████████▉                  | 368 kB 14.9 MB/s eta 0:00:01\r\u001b[K     |██████████████▎                 | 378 kB 14.9 MB/s eta 0:00:01\r\u001b[K     |██████████████▋                 | 389 kB 14.9 MB/s eta 0:00:01\r\u001b[K     |███████████████                 | 399 kB 14.9 MB/s eta 0:00:01\r\u001b[K     |███████████████▍                | 409 kB 14.9 MB/s eta 0:00:01\r\u001b[K     |███████████████▊                | 419 kB 14.9 MB/s eta 0:00:01\r\u001b[K     |████████████████▏               | 430 kB 14.9 MB/s eta 0:00:01\r\u001b[K     |████████████████▌               | 440 kB 14.9 MB/s eta 0:00:01\r\u001b[K     |█████████████████               | 450 kB 14.9 MB/s eta 0:00:01\r\u001b[K     |█████████████████▎              | 460 kB 14.9 MB/s eta 0:00:01\r\u001b[K     |█████████████████▊              | 471 kB 14.9 MB/s eta 0:00:01\r\u001b[K     |██████████████████              | 481 kB 14.9 MB/s eta 0:00:01\r\u001b[K     |██████████████████▌             | 491 kB 14.9 MB/s eta 0:00:01\r\u001b[K     |██████████████████▉             | 501 kB 14.9 MB/s eta 0:00:01\r\u001b[K     |███████████████████▏            | 512 kB 14.9 MB/s eta 0:00:01\r\u001b[K     |███████████████████▋            | 522 kB 14.9 MB/s eta 0:00:01\r\u001b[K     |████████████████████            | 532 kB 14.9 MB/s eta 0:00:01\r\u001b[K     |████████████████████▍           | 542 kB 14.9 MB/s eta 0:00:01\r\u001b[K     |████████████████████▊           | 552 kB 14.9 MB/s eta 0:00:01\r\u001b[K     |█████████████████████▏          | 563 kB 14.9 MB/s eta 0:00:01\r\u001b[K     |█████████████████████▌          | 573 kB 14.9 MB/s eta 0:00:01\r\u001b[K     |██████████████████████          | 583 kB 14.9 MB/s eta 0:00:01\r\u001b[K     |██████████████████████▎         | 593 kB 14.9 MB/s eta 0:00:01\r\u001b[K     |██████████████████████▊         | 604 kB 14.9 MB/s eta 0:00:01\r\u001b[K     |███████████████████████         | 614 kB 14.9 MB/s eta 0:00:01\r\u001b[K     |███████████████████████▌        | 624 kB 14.9 MB/s eta 0:00:01\r\u001b[K     |███████████████████████▉        | 634 kB 14.9 MB/s eta 0:00:01\r\u001b[K     |████████████████████████▏       | 645 kB 14.9 MB/s eta 0:00:01\r\u001b[K     |████████████████████████▋       | 655 kB 14.9 MB/s eta 0:00:01\r\u001b[K     |█████████████████████████       | 665 kB 14.9 MB/s eta 0:00:01\r\u001b[K     |█████████████████████████▍      | 675 kB 14.9 MB/s eta 0:00:01\r\u001b[K     |█████████████████████████▊      | 686 kB 14.9 MB/s eta 0:00:01\r\u001b[K     |██████████████████████████▏     | 696 kB 14.9 MB/s eta 0:00:01\r\u001b[K     |██████████████████████████▌     | 706 kB 14.9 MB/s eta 0:00:01\r\u001b[K     |███████████████████████████     | 716 kB 14.9 MB/s eta 0:00:01\r\u001b[K     |███████████████████████████▎    | 727 kB 14.9 MB/s eta 0:00:01\r\u001b[K     |███████████████████████████▊    | 737 kB 14.9 MB/s eta 0:00:01\r\u001b[K     |████████████████████████████    | 747 kB 14.9 MB/s eta 0:00:01\r\u001b[K     |████████████████████████████▌   | 757 kB 14.9 MB/s eta 0:00:01\r\u001b[K     |████████████████████████████▉   | 768 kB 14.9 MB/s eta 0:00:01\r\u001b[K     |█████████████████████████████▏  | 778 kB 14.9 MB/s eta 0:00:01\r\u001b[K     |█████████████████████████████▋  | 788 kB 14.9 MB/s eta 0:00:01\r\u001b[K     |██████████████████████████████  | 798 kB 14.9 MB/s eta 0:00:01\r\u001b[K     |██████████████████████████████▍ | 808 kB 14.9 MB/s eta 0:00:01\r\u001b[K     |██████████████████████████████▊ | 819 kB 14.9 MB/s eta 0:00:01\r\u001b[K     |███████████████████████████████▏| 829 kB 14.9 MB/s eta 0:00:01\r\u001b[K     |███████████████████████████████▌| 839 kB 14.9 MB/s eta 0:00:01\r\u001b[K     |████████████████████████████████| 849 kB 14.9 MB/s eta 0:00:01\r\u001b[K     |████████████████████████████████| 852 kB 14.9 MB/s \n",
            "\u001b[?25hInstalling collected packages: cx-Oracle\n",
            "Successfully installed cx-Oracle-8.3.0\n"
          ]
        }
      ]
    },
    {
      "cell_type": "code",
      "source": [
        "! pip install jupyter-dash\n",
        "! pip install -q dash=1.19.0"
      ],
      "metadata": {
        "id": "PtyW56ZF4l9A",
        "colab": {
          "base_uri": "https://localhost:8080/"
        },
        "outputId": "2eb1f3d6-4a28-4c7c-969c-8af79a3bae8c"
      },
      "execution_count": 5,
      "outputs": [
        {
          "output_type": "stream",
          "name": "stdout",
          "text": [
            "Collecting jupyter-dash\n",
            "  Downloading jupyter_dash-0.4.2-py3-none-any.whl (23 kB)\n",
            "Requirement already satisfied: ipykernel in /usr/local/lib/python3.7/dist-packages (from jupyter-dash) (4.10.1)\n",
            "Requirement already satisfied: nest-asyncio in /usr/local/lib/python3.7/dist-packages (from jupyter-dash) (1.5.5)\n",
            "Collecting ansi2html\n",
            "  Downloading ansi2html-1.7.0-py3-none-any.whl (15 kB)\n",
            "Requirement already satisfied: flask in /usr/local/lib/python3.7/dist-packages (from jupyter-dash) (1.1.4)\n",
            "Requirement already satisfied: ipython in /usr/local/lib/python3.7/dist-packages (from jupyter-dash) (5.5.0)\n",
            "Collecting retrying\n",
            "  Downloading retrying-1.3.3.tar.gz (10 kB)\n",
            "Collecting dash\n",
            "  Downloading dash-2.4.1-py3-none-any.whl (9.8 MB)\n",
            "\u001b[K     |████████████████████████████████| 9.8 MB 41.5 MB/s \n",
            "\u001b[?25hRequirement already satisfied: requests in /usr/local/lib/python3.7/dist-packages (from jupyter-dash) (2.23.0)\n",
            "Requirement already satisfied: importlib-metadata in /usr/local/lib/python3.7/dist-packages (from ansi2html->jupyter-dash) (4.11.3)\n",
            "Collecting flask-compress\n",
            "  Downloading Flask_Compress-1.12-py3-none-any.whl (7.9 kB)\n",
            "Collecting dash-core-components==2.0.0\n",
            "  Downloading dash_core_components-2.0.0-py3-none-any.whl (3.8 kB)\n",
            "Collecting dash-table==5.0.0\n",
            "  Downloading dash_table-5.0.0-py3-none-any.whl (3.9 kB)\n",
            "Collecting dash-html-components==2.0.0\n",
            "  Downloading dash_html_components-2.0.0-py3-none-any.whl (4.1 kB)\n",
            "Requirement already satisfied: plotly>=5.0.0 in /usr/local/lib/python3.7/dist-packages (from dash->jupyter-dash) (5.5.0)\n",
            "Requirement already satisfied: click<8.0,>=5.1 in /usr/local/lib/python3.7/dist-packages (from flask->jupyter-dash) (7.1.2)\n",
            "Requirement already satisfied: itsdangerous<2.0,>=0.24 in /usr/local/lib/python3.7/dist-packages (from flask->jupyter-dash) (1.1.0)\n",
            "Requirement already satisfied: Jinja2<3.0,>=2.10.1 in /usr/local/lib/python3.7/dist-packages (from flask->jupyter-dash) (2.11.3)\n",
            "Requirement already satisfied: Werkzeug<2.0,>=0.15 in /usr/local/lib/python3.7/dist-packages (from flask->jupyter-dash) (1.0.1)\n",
            "Requirement already satisfied: MarkupSafe>=0.23 in /usr/local/lib/python3.7/dist-packages (from Jinja2<3.0,>=2.10.1->flask->jupyter-dash) (2.0.1)\n",
            "Requirement already satisfied: six in /usr/local/lib/python3.7/dist-packages (from plotly>=5.0.0->dash->jupyter-dash) (1.15.0)\n",
            "Requirement already satisfied: tenacity>=6.2.0 in /usr/local/lib/python3.7/dist-packages (from plotly>=5.0.0->dash->jupyter-dash) (8.0.1)\n",
            "Collecting brotli\n",
            "  Downloading Brotli-1.0.9-cp37-cp37m-manylinux1_x86_64.whl (357 kB)\n",
            "\u001b[K     |████████████████████████████████| 357 kB 68.6 MB/s \n",
            "\u001b[?25hRequirement already satisfied: typing-extensions>=3.6.4 in /usr/local/lib/python3.7/dist-packages (from importlib-metadata->ansi2html->jupyter-dash) (4.2.0)\n",
            "Requirement already satisfied: zipp>=0.5 in /usr/local/lib/python3.7/dist-packages (from importlib-metadata->ansi2html->jupyter-dash) (3.8.0)\n",
            "Requirement already satisfied: jupyter-client in /usr/local/lib/python3.7/dist-packages (from ipykernel->jupyter-dash) (5.3.5)\n",
            "Requirement already satisfied: tornado>=4.0 in /usr/local/lib/python3.7/dist-packages (from ipykernel->jupyter-dash) (5.1.1)\n",
            "Requirement already satisfied: traitlets>=4.1.0 in /usr/local/lib/python3.7/dist-packages (from ipykernel->jupyter-dash) (5.1.1)\n",
            "Requirement already satisfied: pygments in /usr/local/lib/python3.7/dist-packages (from ipython->jupyter-dash) (2.6.1)\n",
            "Requirement already satisfied: pexpect in /usr/local/lib/python3.7/dist-packages (from ipython->jupyter-dash) (4.8.0)\n",
            "Requirement already satisfied: pickleshare in /usr/local/lib/python3.7/dist-packages (from ipython->jupyter-dash) (0.7.5)\n",
            "Requirement already satisfied: decorator in /usr/local/lib/python3.7/dist-packages (from ipython->jupyter-dash) (4.4.2)\n",
            "Requirement already satisfied: prompt-toolkit<2.0.0,>=1.0.4 in /usr/local/lib/python3.7/dist-packages (from ipython->jupyter-dash) (1.0.18)\n",
            "Requirement already satisfied: simplegeneric>0.8 in /usr/local/lib/python3.7/dist-packages (from ipython->jupyter-dash) (0.8.1)\n",
            "Requirement already satisfied: setuptools>=18.5 in /usr/local/lib/python3.7/dist-packages (from ipython->jupyter-dash) (57.4.0)\n",
            "Requirement already satisfied: wcwidth in /usr/local/lib/python3.7/dist-packages (from prompt-toolkit<2.0.0,>=1.0.4->ipython->jupyter-dash) (0.2.5)\n",
            "Requirement already satisfied: python-dateutil>=2.1 in /usr/local/lib/python3.7/dist-packages (from jupyter-client->ipykernel->jupyter-dash) (2.8.2)\n",
            "Requirement already satisfied: jupyter-core>=4.6.0 in /usr/local/lib/python3.7/dist-packages (from jupyter-client->ipykernel->jupyter-dash) (4.10.0)\n",
            "Requirement already satisfied: pyzmq>=13 in /usr/local/lib/python3.7/dist-packages (from jupyter-client->ipykernel->jupyter-dash) (22.3.0)\n",
            "Requirement already satisfied: ptyprocess>=0.5 in /usr/local/lib/python3.7/dist-packages (from pexpect->ipython->jupyter-dash) (0.7.0)\n",
            "Requirement already satisfied: idna<3,>=2.5 in /usr/local/lib/python3.7/dist-packages (from requests->jupyter-dash) (2.10)\n",
            "Requirement already satisfied: urllib3!=1.25.0,!=1.25.1,<1.26,>=1.21.1 in /usr/local/lib/python3.7/dist-packages (from requests->jupyter-dash) (1.24.3)\n",
            "Requirement already satisfied: certifi>=2017.4.17 in /usr/local/lib/python3.7/dist-packages (from requests->jupyter-dash) (2021.10.8)\n",
            "Requirement already satisfied: chardet<4,>=3.0.2 in /usr/local/lib/python3.7/dist-packages (from requests->jupyter-dash) (3.0.4)\n",
            "Building wheels for collected packages: retrying\n",
            "  Building wheel for retrying (setup.py) ... \u001b[?25l\u001b[?25hdone\n",
            "  Created wheel for retrying: filename=retrying-1.3.3-py3-none-any.whl size=11447 sha256=ab55ee23b7887498dd790e30f47b1c4bfbbb522a550572b21a4d1b2afb81cdd4\n",
            "  Stored in directory: /root/.cache/pip/wheels/f9/8d/8d/f6af3f7f9eea3553bc2fe6d53e4b287dad18b06a861ac56ddf\n",
            "Successfully built retrying\n",
            "Installing collected packages: brotli, flask-compress, dash-table, dash-html-components, dash-core-components, retrying, dash, ansi2html, jupyter-dash\n",
            "Successfully installed ansi2html-1.7.0 brotli-1.0.9 dash-2.4.1 dash-core-components-2.0.0 dash-html-components-2.0.0 dash-table-5.0.0 flask-compress-1.12 jupyter-dash-0.4.2 retrying-1.3.3\n",
            "\u001b[31mERROR: Invalid requirement: 'dash=1.19.0'\n",
            "Hint: = is not a valid operator. Did you mean == ?\u001b[0m\n"
          ]
        }
      ]
    },
    {
      "cell_type": "code",
      "source": [
        "from jupyter_dash import JupyterDash\n",
        "import dash_core_components as dcc\n",
        "import dash_html_components as html\n",
        "\n",
        "import plotly.express as px\n",
        "\n",
        "df = px.data.tips()\n",
        "\n",
        "app = JupyterDash(__name__)\n",
        "# app = dash.Dash(__name__)\n",
        "\n",
        "print(app)\n"
      ],
      "metadata": {
        "colab": {
          "base_uri": "https://localhost:8080/",
          "height": 173
        },
        "id": "l7HvAXO_5bVb",
        "outputId": "322e5e36-00bc-46be-f5ba-a38b72e0c910"
      },
      "execution_count": 6,
      "outputs": [
        {
          "output_type": "stream",
          "name": "stderr",
          "text": [
            "/usr/local/lib/python3.7/dist-packages/ipykernel_launcher.py:2: UserWarning: \n",
            "The dash_core_components package is deprecated. Please replace\n",
            "`import dash_core_components as dcc` with `from dash import dcc`\n",
            "  \n",
            "/usr/local/lib/python3.7/dist-packages/ipykernel_launcher.py:3: UserWarning: \n",
            "The dash_html_components package is deprecated. Please replace\n",
            "`import dash_html_components as html` with `from dash import html`\n",
            "  This is separate from the ipykernel package so we can avoid doing imports until\n"
          ]
        },
        {
          "output_type": "stream",
          "name": "stdout",
          "text": [
            "<jupyter_dash.jupyter_app.JupyterDash object at 0x7f25ddeed5d0>\n"
          ]
        }
      ]
    },
    {
      "cell_type": "code",
      "source": [
        "from dash.dependencies import Input, Output\n",
        "\n",
        "app.layout = html.Div([\n",
        "                        html.H1(\"My Dash App\"),\n",
        "                        html.P(\"Paragraph\"),\n",
        "                        dcc.Graph(id='graph'),\n",
        "                        html.Label([\n",
        "                                    \"colorscale\",\n",
        "                                    dcc.Dropdown(\n",
        "                                      id=\"colorscale-dropdown\",\n",
        "                                      clearable=False,\n",
        "                                      value=\"plasma\",\n",
        "                                      options=[\n",
        "                                                {\"label\": color, \"value\": color}\n",
        "                                                for color in px.colors.named_colorscales()\n",
        "                                      ])    \n",
        "                                    ])\n",
        "])\n",
        "\n",
        "@app.callback(\n",
        "    Output(\"graph\", \"figure\"),\n",
        "    [Input(\"colorscale-dropdown\", \"value\")]\n",
        "\n",
        ")\n",
        "\n",
        "def update_figure(colorscale):\n",
        "  return px.scatter(\n",
        "      df,\n",
        "      x=\"total_bill\",\n",
        "      y=\"tip\",\n",
        "      color=\"size\",\n",
        "      color_continuous_scale=colorscale,\n",
        "      render_mode=\"webgl\",\n",
        "      title=\"Y vs X\"\n",
        "  )\n",
        "\n",
        "app.run_server(mode=\"inline\")"
      ],
      "metadata": {
        "colab": {
          "base_uri": "https://localhost:8080/",
          "height": 672
        },
        "id": "GNgXQf-o6CfB",
        "outputId": "95a64549-8c41-4f98-9a7a-ffc75934a401"
      },
      "execution_count": 7,
      "outputs": [
        {
          "output_type": "display_data",
          "data": {
            "text/plain": [
              "<IPython.core.display.Javascript object>"
            ],
            "application/javascript": [
              "(async (port, path, width, height, cache, element) => {\n",
              "    if (!google.colab.kernel.accessAllowed && !cache) {\n",
              "      return;\n",
              "    }\n",
              "    element.appendChild(document.createTextNode(''));\n",
              "    const url = await google.colab.kernel.proxyPort(port, {cache});\n",
              "    const iframe = document.createElement('iframe');\n",
              "    iframe.src = new URL(path, url).toString();\n",
              "    iframe.height = height;\n",
              "    iframe.width = width;\n",
              "    iframe.style.border = 0;\n",
              "    element.appendChild(iframe);\n",
              "  })(8050, \"/\", \"100%\", 650, false, window.element)"
            ]
          },
          "metadata": {}
        }
      ]
    },
    {
      "cell_type": "code",
      "source": [
        "from jupyter_dash import JupyterDash\n",
        "\n",
        "import dash_core_components as dcc\n",
        "import dash_html_components as html \n",
        "\n",
        "import plotly.express as px\n",
        "\n",
        "df = px.data.tips()\n",
        "\n",
        "app = JupyterDash(__name__)\n",
        "\n",
        "print(app)\n",
        "\n",
        "from dash.dependencies import Input, Output\n",
        "\n",
        "app.layout = html.Div([\n",
        "                       html.H1(\"My Dash App\"),\n",
        "                       html.P(\"Welcome.\"),\n",
        "                       dcc.Graph(id='graph'),\n",
        "                       html.Label([\n",
        "                                   \"colorscale\",\n",
        "                                   dcc.Dropdown(\n",
        "                                       id=\"colorscale-dropdown\",\n",
        "                                       clearable=False,\n",
        "                                       value=\"plasma\",\n",
        "                                       options=[\n",
        "                                                {\"label\": color, \"value\": color}\n",
        "                                                for color in px.colors.named_colorscales()\n",
        "                                       ])\n",
        "                       ])\n",
        "])\n",
        "\n",
        "@app.callback(\n",
        "    Output(\"graph\", \"figure\"),\n",
        "    [Input(\"colorscale-dropdown\", \"value\")]\n",
        ")\n",
        "\n",
        "def update_figure(colorscale):\n",
        "  return px.scatter(\n",
        "      df,\n",
        "      x=\"total_bill\",\n",
        "      y=\"tip\",\n",
        "      color=\"size\",\n",
        "      color_continuous_scale=colorscale,\n",
        "      render_mode=\"webgl\",\n",
        "      title=\"Y vs X\"\n",
        "  )\n",
        "\n",
        "app.run_server(mode=\"inline\")"
      ],
      "metadata": {
        "colab": {
          "base_uri": "https://localhost:8080/",
          "height": 689
        },
        "id": "YFaQBuI3GI_z",
        "outputId": "55b679b9-5865-4994-88dc-0ef43d47b593"
      },
      "execution_count": 8,
      "outputs": [
        {
          "output_type": "stream",
          "name": "stdout",
          "text": [
            "<jupyter_dash.jupyter_app.JupyterDash object at 0x7f25dc02d590>\n"
          ]
        },
        {
          "output_type": "display_data",
          "data": {
            "text/plain": [
              "<IPython.core.display.Javascript object>"
            ],
            "application/javascript": [
              "(async (port, path, width, height, cache, element) => {\n",
              "    if (!google.colab.kernel.accessAllowed && !cache) {\n",
              "      return;\n",
              "    }\n",
              "    element.appendChild(document.createTextNode(''));\n",
              "    const url = await google.colab.kernel.proxyPort(port, {cache});\n",
              "    const iframe = document.createElement('iframe');\n",
              "    iframe.src = new URL(path, url).toString();\n",
              "    iframe.height = height;\n",
              "    iframe.width = width;\n",
              "    iframe.style.border = 0;\n",
              "    element.appendChild(iframe);\n",
              "  })(8050, \"/\", \"100%\", 650, false, window.element)"
            ]
          },
          "metadata": {}
        }
      ]
    },
    {
      "cell_type": "code",
      "source": [
        "! pip install jupyter-dash\n",
        "\n",
        "from jupyter_dash import JupyterDash\n",
        "\n",
        "import dash_core_components as dcc\n",
        "import dash_html_components as html"
      ],
      "metadata": {
        "colab": {
          "base_uri": "https://localhost:8080/"
        },
        "id": "TsCAZ6FaQxXS",
        "outputId": "f4bce147-5c7a-41a9-8fa4-4b1e103ac26e"
      },
      "execution_count": 9,
      "outputs": [
        {
          "output_type": "stream",
          "name": "stdout",
          "text": [
            "Requirement already satisfied: jupyter-dash in /usr/local/lib/python3.7/dist-packages (0.4.2)\n",
            "Requirement already satisfied: retrying in /usr/local/lib/python3.7/dist-packages (from jupyter-dash) (1.3.3)\n",
            "Requirement already satisfied: nest-asyncio in /usr/local/lib/python3.7/dist-packages (from jupyter-dash) (1.5.5)\n",
            "Requirement already satisfied: ansi2html in /usr/local/lib/python3.7/dist-packages (from jupyter-dash) (1.7.0)\n",
            "Requirement already satisfied: flask in /usr/local/lib/python3.7/dist-packages (from jupyter-dash) (1.1.4)\n",
            "Requirement already satisfied: ipython in /usr/local/lib/python3.7/dist-packages (from jupyter-dash) (5.5.0)\n",
            "Requirement already satisfied: requests in /usr/local/lib/python3.7/dist-packages (from jupyter-dash) (2.23.0)\n",
            "Requirement already satisfied: ipykernel in /usr/local/lib/python3.7/dist-packages (from jupyter-dash) (4.10.1)\n",
            "Requirement already satisfied: dash in /usr/local/lib/python3.7/dist-packages (from jupyter-dash) (2.4.1)\n",
            "Requirement already satisfied: importlib-metadata in /usr/local/lib/python3.7/dist-packages (from ansi2html->jupyter-dash) (4.11.3)\n",
            "Requirement already satisfied: plotly>=5.0.0 in /usr/local/lib/python3.7/dist-packages (from dash->jupyter-dash) (5.5.0)\n",
            "Requirement already satisfied: dash-html-components==2.0.0 in /usr/local/lib/python3.7/dist-packages (from dash->jupyter-dash) (2.0.0)\n",
            "Requirement already satisfied: dash-core-components==2.0.0 in /usr/local/lib/python3.7/dist-packages (from dash->jupyter-dash) (2.0.0)\n",
            "Requirement already satisfied: flask-compress in /usr/local/lib/python3.7/dist-packages (from dash->jupyter-dash) (1.12)\n",
            "Requirement already satisfied: dash-table==5.0.0 in /usr/local/lib/python3.7/dist-packages (from dash->jupyter-dash) (5.0.0)\n",
            "Requirement already satisfied: Werkzeug<2.0,>=0.15 in /usr/local/lib/python3.7/dist-packages (from flask->jupyter-dash) (1.0.1)\n",
            "Requirement already satisfied: Jinja2<3.0,>=2.10.1 in /usr/local/lib/python3.7/dist-packages (from flask->jupyter-dash) (2.11.3)\n",
            "Requirement already satisfied: itsdangerous<2.0,>=0.24 in /usr/local/lib/python3.7/dist-packages (from flask->jupyter-dash) (1.1.0)\n",
            "Requirement already satisfied: click<8.0,>=5.1 in /usr/local/lib/python3.7/dist-packages (from flask->jupyter-dash) (7.1.2)\n",
            "Requirement already satisfied: MarkupSafe>=0.23 in /usr/local/lib/python3.7/dist-packages (from Jinja2<3.0,>=2.10.1->flask->jupyter-dash) (2.0.1)\n",
            "Requirement already satisfied: tenacity>=6.2.0 in /usr/local/lib/python3.7/dist-packages (from plotly>=5.0.0->dash->jupyter-dash) (8.0.1)\n",
            "Requirement already satisfied: six in /usr/local/lib/python3.7/dist-packages (from plotly>=5.0.0->dash->jupyter-dash) (1.15.0)\n",
            "Requirement already satisfied: brotli in /usr/local/lib/python3.7/dist-packages (from flask-compress->dash->jupyter-dash) (1.0.9)\n",
            "Requirement already satisfied: zipp>=0.5 in /usr/local/lib/python3.7/dist-packages (from importlib-metadata->ansi2html->jupyter-dash) (3.8.0)\n",
            "Requirement already satisfied: typing-extensions>=3.6.4 in /usr/local/lib/python3.7/dist-packages (from importlib-metadata->ansi2html->jupyter-dash) (4.2.0)\n",
            "Requirement already satisfied: tornado>=4.0 in /usr/local/lib/python3.7/dist-packages (from ipykernel->jupyter-dash) (5.1.1)\n",
            "Requirement already satisfied: jupyter-client in /usr/local/lib/python3.7/dist-packages (from ipykernel->jupyter-dash) (5.3.5)\n",
            "Requirement already satisfied: traitlets>=4.1.0 in /usr/local/lib/python3.7/dist-packages (from ipykernel->jupyter-dash) (5.1.1)\n",
            "Requirement already satisfied: prompt-toolkit<2.0.0,>=1.0.4 in /usr/local/lib/python3.7/dist-packages (from ipython->jupyter-dash) (1.0.18)\n",
            "Requirement already satisfied: pexpect in /usr/local/lib/python3.7/dist-packages (from ipython->jupyter-dash) (4.8.0)\n",
            "Requirement already satisfied: pickleshare in /usr/local/lib/python3.7/dist-packages (from ipython->jupyter-dash) (0.7.5)\n",
            "Requirement already satisfied: setuptools>=18.5 in /usr/local/lib/python3.7/dist-packages (from ipython->jupyter-dash) (57.4.0)\n",
            "Requirement already satisfied: decorator in /usr/local/lib/python3.7/dist-packages (from ipython->jupyter-dash) (4.4.2)\n",
            "Requirement already satisfied: simplegeneric>0.8 in /usr/local/lib/python3.7/dist-packages (from ipython->jupyter-dash) (0.8.1)\n",
            "Requirement already satisfied: pygments in /usr/local/lib/python3.7/dist-packages (from ipython->jupyter-dash) (2.6.1)\n",
            "Requirement already satisfied: wcwidth in /usr/local/lib/python3.7/dist-packages (from prompt-toolkit<2.0.0,>=1.0.4->ipython->jupyter-dash) (0.2.5)\n",
            "Requirement already satisfied: pyzmq>=13 in /usr/local/lib/python3.7/dist-packages (from jupyter-client->ipykernel->jupyter-dash) (22.3.0)\n",
            "Requirement already satisfied: python-dateutil>=2.1 in /usr/local/lib/python3.7/dist-packages (from jupyter-client->ipykernel->jupyter-dash) (2.8.2)\n",
            "Requirement already satisfied: jupyter-core>=4.6.0 in /usr/local/lib/python3.7/dist-packages (from jupyter-client->ipykernel->jupyter-dash) (4.10.0)\n",
            "Requirement already satisfied: ptyprocess>=0.5 in /usr/local/lib/python3.7/dist-packages (from pexpect->ipython->jupyter-dash) (0.7.0)\n",
            "Requirement already satisfied: idna<3,>=2.5 in /usr/local/lib/python3.7/dist-packages (from requests->jupyter-dash) (2.10)\n",
            "Requirement already satisfied: chardet<4,>=3.0.2 in /usr/local/lib/python3.7/dist-packages (from requests->jupyter-dash) (3.0.4)\n",
            "Requirement already satisfied: certifi>=2017.4.17 in /usr/local/lib/python3.7/dist-packages (from requests->jupyter-dash) (2021.10.8)\n",
            "Requirement already satisfied: urllib3!=1.25.0,!=1.25.1,<1.26,>=1.21.1 in /usr/local/lib/python3.7/dist-packages (from requests->jupyter-dash) (1.24.3)\n"
          ]
        }
      ]
    },
    {
      "cell_type": "code",
      "source": [
        "from jupyter_dash import JupyterDash\n",
        "\n",
        "import dash_core_components as dcc\n",
        "\n",
        "import dash_html_components as html\n",
        "\n",
        "import altair\n",
        "\n",
        "import io \n",
        "\n",
        "from vega_datasets import data\n",
        "\n",
        "from dash.dependencies import Input, Output\n",
        "\n",
        "cars = data.cars()\n",
        "\n",
        "print(cars)\n",
        "\n",
        "app = JupyterDash(__name__)\n",
        "\n",
        "COLUMNS = [\n",
        "           \"Miles_per_Gallon\",\n",
        "           \"Acceleration\",\n",
        "           \"Displacement\",\n",
        "           \"Cylinders\",\n",
        "           \"Weight_in_lbs\"\n",
        "]\n",
        "\n",
        "app.layout = html.Div([\n",
        "                       html.Div([\n",
        "                                 html.Div([\n",
        "                                           html.Label(\"x-axis\"),\n",
        "                                           dcc.Dropdown(\n",
        "                                               id=\"x_axis\",\n",
        "                                               options=[{\n",
        "                                                   \"label\": feature,\n",
        "                                                   \"value\": feature\n",
        "                                                   }\n",
        "                                                   for feature in COLUMNS\n",
        "                                               ],\n",
        "                                               value=\"Miles_per_Gallon\"\n",
        "                                           )\n",
        "                                 ]),\n",
        "                                 html.Div([\n",
        "                                           html.Label(\"y-axis\"),\n",
        "                                           dcc.Dropdown(\n",
        "                                               id=\"y_axis\",\n",
        "                                               options=[{\n",
        "                                                   \"label\": feature,\n",
        "                                                   \"value\": feature\n",
        "                                                   }\n",
        "                                                   for feature in COLUMNS\n",
        "                                               ],\n",
        "                                               value=\"Acceleration\"\n",
        "                                           )\n",
        "                                 ])\n",
        "                       ]),\n",
        "                       html.Iframe(\n",
        "                           id=\"plot\",\n",
        "                           height=\"400\",\n",
        "                           width=\"700\",\n",
        "                           sandbox=\"allow-scripts\"\n",
        "                       )\n",
        "\n",
        "])\n",
        "\n",
        "@app.callback(\n",
        "    Output(\"plot\", \"srcDoc\"),\n",
        "    [\n",
        "     Input(\"x_axis\", \"value\"),\n",
        "     Input(\"y_axis\", \"value\")\n",
        "    ]\n",
        ")\n",
        "\n",
        "def make_figure(x_axis, y_axis):\n",
        "\n",
        "  brush = altair.selection_interval()\n",
        "\n",
        "  base  = altair.Chart(cars)\n",
        "\n",
        "  scatter = (\n",
        "      base.mark_point()\n",
        "      .encode(x = x_axis,\n",
        "              y = y_axis,\n",
        "              color = \"Origin:N\")\n",
        "      .properties(width     = 300,\n",
        "                  height    = 300,\n",
        "                  selection = brush)\n",
        "  )\n",
        "\n",
        "  histogram = (\n",
        "      base.mark_bar()\n",
        "      .encode(x = altair.X(\"Horsepower:Q\",\n",
        "                           bin = True), \n",
        "              y = \"count()\", \n",
        "              color = \"Origin:N\")\n",
        "      .transform_filter(brush.ref())\n",
        "  ).properties(height = 300)\n",
        "\n",
        "  chart = altair.hconcat(scatter, histogram)\n",
        "\n",
        "  cars_html = io.StringIO()\n",
        "\n",
        "  chart.save(cars_html, \"html\")\n",
        "\n",
        "  return cars_html.getvalue()\n",
        "\n",
        "app.run_server(mode=\"inline\")"
      ],
      "metadata": {
        "colab": {
          "base_uri": "https://localhost:8080/",
          "height": 1000
        },
        "id": "5KKJDrj_Scys",
        "outputId": "b9558659-9cd2-4ba7-ecd2-f3bd4dac2949"
      },
      "execution_count": 10,
      "outputs": [
        {
          "output_type": "stream",
          "name": "stdout",
          "text": [
            "                          Name  Miles_per_Gallon  Cylinders  Displacement  \\\n",
            "0    chevrolet chevelle malibu              18.0          8         307.0   \n",
            "1            buick skylark 320              15.0          8         350.0   \n",
            "2           plymouth satellite              18.0          8         318.0   \n",
            "3                amc rebel sst              16.0          8         304.0   \n",
            "4                  ford torino              17.0          8         302.0   \n",
            "..                         ...               ...        ...           ...   \n",
            "401            ford mustang gl              27.0          4         140.0   \n",
            "402                  vw pickup              44.0          4          97.0   \n",
            "403              dodge rampage              32.0          4         135.0   \n",
            "404                ford ranger              28.0          4         120.0   \n",
            "405                 chevy s-10              31.0          4         119.0   \n",
            "\n",
            "     Horsepower  Weight_in_lbs  Acceleration       Year  Origin  \n",
            "0         130.0           3504          12.0 1970-01-01     USA  \n",
            "1         165.0           3693          11.5 1970-01-01     USA  \n",
            "2         150.0           3436          11.0 1970-01-01     USA  \n",
            "3         150.0           3433          12.0 1970-01-01     USA  \n",
            "4         140.0           3449          10.5 1970-01-01     USA  \n",
            "..          ...            ...           ...        ...     ...  \n",
            "401        86.0           2790          15.6 1982-01-01     USA  \n",
            "402        52.0           2130          24.6 1982-01-01  Europe  \n",
            "403        84.0           2295          11.6 1982-01-01     USA  \n",
            "404        79.0           2625          18.6 1982-01-01     USA  \n",
            "405        82.0           2720          19.4 1982-01-01     USA  \n",
            "\n",
            "[406 rows x 9 columns]\n"
          ]
        },
        {
          "output_type": "display_data",
          "data": {
            "text/plain": [
              "<IPython.core.display.Javascript object>"
            ],
            "application/javascript": [
              "(async (port, path, width, height, cache, element) => {\n",
              "    if (!google.colab.kernel.accessAllowed && !cache) {\n",
              "      return;\n",
              "    }\n",
              "    element.appendChild(document.createTextNode(''));\n",
              "    const url = await google.colab.kernel.proxyPort(port, {cache});\n",
              "    const iframe = document.createElement('iframe');\n",
              "    iframe.src = new URL(path, url).toString();\n",
              "    iframe.height = height;\n",
              "    iframe.width = width;\n",
              "    iframe.style.border = 0;\n",
              "    element.appendChild(iframe);\n",
              "  })(8050, \"/\", \"100%\", 650, false, window.element)"
            ]
          },
          "metadata": {}
        }
      ]
    }
  ]
}